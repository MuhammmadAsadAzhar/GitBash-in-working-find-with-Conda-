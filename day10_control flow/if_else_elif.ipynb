{
 "cells": [
  {
   "cell_type": "markdown",
   "metadata": {},
   "source": []
  },
  {
   "cell_type": "code",
   "execution_count": 4,
   "metadata": {},
   "outputs": [
    {
     "name": "stdout",
     "output_type": "stream",
     "text": [
      "not eligible\n"
     ]
    }
   ],
   "source": [
    "age=17\n",
    "if age>=18:\n",
    "    print(\"eligible\")\n",
    "else:\n",
    "    print(\"not eligible\")"
   ]
  },
  {
   "cell_type": "code",
   "execution_count": 5,
   "metadata": {},
   "outputs": [
    {
     "name": "stdout",
     "output_type": "stream",
     "text": [
      "i can buy a bike\n"
     ]
    }
   ],
   "source": [
    "adnan_pocket_money = 11000\n",
    "\n",
    "if adnan_pocket_money > 1000:\n",
    "    print(\"i can buy a car\")\n",
    "elif adnan_pocket_money > 500:\n",
    "    print(\"i can buy a bike\")\n",
    "elif adnan_pocket_money > 100:\n",
    "    print(\"i can buy a laptop\")\n",
    "else:\n",
    "    print(\"i can't buy anything\")"
   ]
  },
  {
   "cell_type": "code",
   "execution_count": 10,
   "metadata": {},
   "outputs": [
    {
     "name": "stdout",
     "output_type": "stream",
     "text": [
      "adnan can borrow the money from asad\n"
     ]
    }
   ],
   "source": [
    "asad =adnan_pocket_money\n",
    "if adnan_pocket_money>50:\n",
    "    print(\"adnan can borrow the money from asad\")\n",
    "else:\n",
    "    print(\"adnan can't borrow the money from asad\")"
   ]
  },
  {
   "cell_type": "code",
   "execution_count": 19,
   "metadata": {},
   "outputs": [
    {
     "name": "stdout",
     "output_type": "stream",
     "text": [
      "adnan can't borrow the money from asad\n"
     ]
    }
   ],
   "source": [
    "month_expense =100000\n",
    "adnan_pocket_money=10000\n",
    "if adnan_pocket_money==month_expense:\n",
    "    print(\"need more money\")\n",
    "elif month_expense<adnan_pocket_money:\n",
    "    print(\"brow money from asad\")\n",
    "elif month_expense>adnan_pocket_money:\n",
    "    print(\"adnan can't borrow the money from asad\")\n",
    "else:\n",
    "    print(\"enough money\")"
   ]
  },
  {
   "cell_type": "code",
   "execution_count": 20,
   "metadata": {},
   "outputs": [
    {
     "name": "stdout",
     "output_type": "stream",
     "text": [
      "C\n"
     ]
    }
   ],
   "source": [
    "grade = 75\n",
    "\n",
    "if grade >= 90:\n",
    "    print(\"A\")\n",
    "elif grade >= 80 and grade < 90:\n",
    "    print(\"B\")\n",
    "elif grade >= 70 and grade < 80:\n",
    "    print(\"C\")\n",
    "elif grade >= 60 and grade < 70:\n",
    "    print(\"D\")\n",
    "else:\n",
    "    print(\"F\")"
   ]
  }
 ],
 "metadata": {
  "kernelspec": {
   "display_name": "python_basics",
   "language": "python",
   "name": "python3"
  },
  "language_info": {
   "codemirror_mode": {
    "name": "ipython",
    "version": 3
   },
   "file_extension": ".py",
   "mimetype": "text/x-python",
   "name": "python",
   "nbconvert_exporter": "python",
   "pygments_lexer": "ipython3",
   "version": "3.10.15"
  }
 },
 "nbformat": 4,
 "nbformat_minor": 2
}
