{
 "cells": [
  {
   "cell_type": "code",
   "execution_count": 1,
   "metadata": {},
   "outputs": [
    {
     "name": "stdout",
     "output_type": "stream",
     "text": [
      "a is not equal to b\n"
     ]
    }
   ],
   "source": [
    "a=15\n",
    "b=25\n",
    "if a==b:\n",
    "    print(\"a is equal to b\")\n",
    "if a!=b:\n",
    "    print(\"a is not equal to b\")\n",
    "\n",
    " "
   ]
  },
  {
   "cell_type": "code",
   "execution_count": 6,
   "metadata": {},
   "outputs": [
    {
     "name": "stdout",
     "output_type": "stream",
     "text": [
      "yes they are siblings\n"
     ]
    }
   ],
   "source": [
    "siblings=[\"asad\",\"haris\",\"zakriya\"]\n",
    "if \"asad\" and \"maryam\"in siblings:\n",
    "    print(\"no they are siblings\")\n",
    "elif \"zakriya\" or \"asad\":\n",
    "    print(\"yes they are siblings\")\n",
    "else:\n",
    "    print(\"add maryam in sibling list\")"
   ]
  },
  {
   "cell_type": "code",
   "execution_count": 10,
   "metadata": {},
   "outputs": [
    {
     "name": "stdout",
     "output_type": "stream",
     "text": [
      "stay home and do meditation\n"
     ]
    }
   ],
   "source": [
    "is_sunny= True\n",
    "is_happy= False\n",
    "if is_sunny==is_happy:\n",
    "    print(\"you can outside for walk\")\n",
    "elif is_sunny!=is_happy:\n",
    "    print(\"stay home and do meditation\")\n",
    "else:\n",
    "    print(\"you can not outside for walk\")"
   ]
  },
  {
   "cell_type": "code",
   "execution_count": 11,
   "metadata": {},
   "outputs": [
    {
     "name": "stdout",
     "output_type": "stream",
     "text": [
      "1 * 1 = 1 is odd\n",
      "1 * 2 = 2 is even\n",
      "1 * 3 = 3 is odd\n",
      "1 * 4 = 4 is even\n",
      "1 * 5 = 5 is odd\n",
      "\n",
      "2 * 1 = 2 is even\n",
      "2 * 2 = 4 is even\n",
      "2 * 3 = 6 is even\n",
      "2 * 4 = 8 is even\n",
      "2 * 5 = 10 is even\n",
      "\n",
      "3 * 1 = 3 is odd\n",
      "3 * 2 = 6 is even\n",
      "3 * 3 = 9 is odd\n",
      "3 * 4 = 12 is even\n",
      "3 * 5 = 15 is odd\n",
      "\n",
      "4 * 1 = 4 is even\n",
      "4 * 2 = 8 is even\n",
      "4 * 3 = 12 is even\n",
      "4 * 4 = 16 is even\n",
      "4 * 5 = 20 is even\n",
      "\n",
      "5 * 1 = 5 is odd\n",
      "5 * 2 = 10 is even\n",
      "5 * 3 = 15 is odd\n",
      "5 * 4 = 20 is even\n",
      "5 * 5 = 25 is odd\n",
      "\n"
     ]
    }
   ],
   "source": [
    "for i in range(1, 6):  # Outer loop for numbers 1 to 5\n",
    "    for j in range(1, 6):  # Inner loop for numbers 1 to 5\n",
    "        result = i * j  # Calculate the multiplication result\n",
    "        if result % 2 == 0:  # Check if the result is even\n",
    "            print(f\"{i} * {j} = {result} is even\")\n",
    "        else:  # If the result is not even, it's odd\n",
    "            print(f\"{i} * {j} = {result} is odd\")\n",
    "    print()  # Print a blank line after each row of the table\n"
   ]
  },
  {
   "cell_type": "code",
   "execution_count": 12,
   "metadata": {},
   "outputs": [
    {
     "name": "stdout",
     "output_type": "stream",
     "text": [
      "you can not drive\n"
     ]
    }
   ],
   "source": [
    "age=17\n",
    "license=True\n",
    "if age>18:\n",
    "    if license==True:\n",
    "        print(\"you can drive\")\n",
    "    else:\n",
    "        print(\"you can not drive\")\n",
    "else:\n",
    "    print(\"you can not drive\")"
   ]
  }
 ],
 "metadata": {
  "kernelspec": {
   "display_name": "python_basics",
   "language": "python",
   "name": "python3"
  },
  "language_info": {
   "codemirror_mode": {
    "name": "ipython",
    "version": 3
   },
   "file_extension": ".py",
   "mimetype": "text/x-python",
   "name": "python",
   "nbconvert_exporter": "python",
   "pygments_lexer": "ipython3",
   "version": "3.10.15"
  }
 },
 "nbformat": 4,
 "nbformat_minor": 2
}
