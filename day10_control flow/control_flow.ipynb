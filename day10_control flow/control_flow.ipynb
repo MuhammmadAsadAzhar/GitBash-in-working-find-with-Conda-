{
 "cells": [
  {
   "cell_type": "markdown",
   "metadata": {},
   "source": [
    "# control flow satement\n",
    "in which you defind the order in which code or block of the statment are executed \n"
   ]
  },
  {
   "cell_type": "markdown",
   "metadata": {
    "vscode": {
     "languageId": "plaintext"
    }
   },
   "source": [
    " Types of the control flow satement \n",
    " 1.if,elif,else we called condition satements\n",
    " 2.for,while we called loop statements(iterative statment)\n",
    " 3.break,continue and pass we called jump statement\n",
    " 4.try,except,finally "
   ]
  }
 ],
 "metadata": {
  "language_info": {
   "name": "python"
  }
 },
 "nbformat": 4,
 "nbformat_minor": 2
}
