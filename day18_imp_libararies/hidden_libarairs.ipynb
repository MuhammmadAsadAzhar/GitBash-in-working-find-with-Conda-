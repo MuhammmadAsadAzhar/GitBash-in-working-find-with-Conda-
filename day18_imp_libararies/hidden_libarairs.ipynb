{
 "cells": [
  {
   "cell_type": "markdown",
   "metadata": {},
   "source": [
    "# important libaries\n",
    "1. pandas\n",
    "2. numpy\n",
    "3. seaborn\n",
    "4. matplotlib\n",
    "5. plotly"
   ]
  },
  {
   "cell_type": "markdown",
   "metadata": {},
   "source": [
    "# hidden gem python libaries\n",
    "\n",
    "# hidden gem python libaries\n",
    "1. ploars in replacment of pandas cause pandas run slowly on large data\n",
    "2. modins also use for large data with pandas\n",
    "3. plotnine is implemenetation of grammer of graphics in python and this allow you to compose plots by explecitly mapping variables in dataframes\n",
    "4. plotly\n",
    "5. altair\n",
    "6. pyGwalker use for automaticall data exploratry data anlysis\n",
    "7. pandas profiling for automatic EDA kinda tabelue\n",
    "8. sweetviz also use for automatic EDA and its use for visulization and compare datasets\n",
    "9. autoviz also use for automatic EDA\n",
    "10. dtale \n",
    "11. data prep\n",
    "12. data wrangler for automatic eda and VS code extenstion\n",
    "13. lIDA automatic visualization with llm's\n",
    "14. yellowbrick automatic machine learning \n",
    "15. pycaret\n",
    "16. auto sklearn\n",
    "17. ML box\n",
    "    "
   ]
  }
 ],
 "metadata": {
  "language_info": {
   "name": "python"
  }
 },
 "nbformat": 4,
 "nbformat_minor": 2
}
