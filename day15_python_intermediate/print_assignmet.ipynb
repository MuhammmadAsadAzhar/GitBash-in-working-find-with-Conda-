{
 "cells": [
  {
   "cell_type": "code",
   "execution_count": 1,
   "metadata": {},
   "outputs": [
    {
     "name": "stdout",
     "output_type": "stream",
     "text": [
      "Assalam o Alaikum, kya haal hain?\n"
     ]
    }
   ],
   "source": [
    "# Basic Print Statement (Simple Strings)\n",
    "\n",
    "print(\"Assalam o Alaikum, kya haal hain?\")\n"
   ]
  },
  {
   "cell_type": "code",
   "execution_count": 4,
   "metadata": {},
   "outputs": [
    {
     "name": "stdout",
     "output_type": "stream",
     "text": [
      "Biryani,aur,Chai,ki,dawat\n"
     ]
    }
   ],
   "source": [
    "# Multiple Arguments in Print\n",
    "print(\"Biryani\", \"aur\", \"Chai\", \"ki\", \"dawat\", sep=\",\")\n"
   ]
  },
  {
   "cell_type": "code",
   "execution_count": 5,
   "metadata": {},
   "outputs": [
    {
     "name": "stdout",
     "output_type": "stream",
     "text": [
      "Ali ko Doodh Pati bohat pasand hai.\n"
     ]
    }
   ],
   "source": [
    "# Using F-Strings\n",
    "dost_ka_naam = \"Ali\"\n",
    "fav_tea = \"Doodh Pati\"\n",
    "\n",
    "print(f\"{dost_ka_naam} ko {fav_tea} bohat pasand hai.\")\n"
   ]
  },
  {
   "cell_type": "code",
   "execution_count": 6,
   "metadata": {},
   "outputs": [
    {
     "name": "stdout",
     "output_type": "stream",
     "text": [
      "Jani!\n",
      "Kya haal hai?\n",
      "Chalo chai peene chalte hain!\n"
     ]
    }
   ],
   "source": [
    "# break line\n",
    "\n",
    "print(\"Jani!\\nKya haal hai?\\nChalo chai peene chalte hain!\")\n"
   ]
  },
  {
   "cell_type": "code",
   "execution_count": 7,
   "metadata": {},
   "outputs": [
    {
     "name": "stdout",
     "output_type": "stream",
     "text": [
      "Mujhe Gol Gappay aur Samosay bohat pasand hai.\n"
     ]
    }
   ],
   "source": [
    "# formatted string \n",
    "print(\"Mujhe {} aur {} bohat pasand hai.\".format(\"Gol Gappay\", \"Samosay\"))\n"
   ]
  },
  {
   "cell_type": "code",
   "execution_count": 9,
   "metadata": {},
   "outputs": [
    {
     "name": "stdout",
     "output_type": "stream",
     "text": [
      "Yaar 1 baar keh raha hoon, Chai bana do!\n",
      "Yaar 2 baar keh raha hoon, Chai bana do!\n"
     ]
    }
   ],
   "source": [
    "# print with loop\n",
    "\n",
    "for i in range(2):\n",
    "    print(f\"Yaar {i+1} baar keh raha hoon, Chai bana do!\")\n"
   ]
  },
  {
   "cell_type": "code",
   "execution_count": 10,
   "metadata": {},
   "outputs": [
    {
     "name": "stdout",
     "output_type": "stream",
     "text": [
      "Sahi wala hisaab: 50 + 30 = 80\n"
     ]
    }
   ],
   "source": [
    "# combining string \n",
    "a = 50\n",
    "b = 30\n",
    "print(f\"Sahi wala hisaab: {a} + {b} = {a + b}\")\n"
   ]
  },
  {
   "cell_type": "code",
   "execution_count": 12,
   "metadata": {},
   "outputs": [
    {
     "name": "stdout",
     "output_type": "stream",
     "text": [
      " Asad is \n",
      "      learing\n",
      "      \"code with baba ammar\"\n",
      "      \n"
     ]
    },
    {
     "ename": "",
     "evalue": "",
     "output_type": "error",
     "traceback": [
      "\u001b[1;31mThe Kernel crashed while executing code in the current cell or a previous cell. \n",
      "\u001b[1;31mPlease review the code in the cell(s) to identify a possible cause of the failure. \n",
      "\u001b[1;31mClick <a href='https://aka.ms/vscodeJupyterKernelCrash'>here</a> for more info. \n",
      "\u001b[1;31mView Jupyter <a href='command:jupyter.viewOutput'>log</a> for further details."
     ]
    }
   ],
   "source": [
    "#  Printing with Multiline Text\n",
    "\n",
    "print(\"\"\" Asad is \n",
    "      learing\n",
    "      \"code with baba ammar\"\n",
    "      \"\"\")"
   ]
  }
 ],
 "metadata": {
  "kernelspec": {
   "display_name": "python_basics",
   "language": "python",
   "name": "python3"
  },
  "language_info": {
   "codemirror_mode": {
    "name": "ipython",
    "version": 3
   },
   "file_extension": ".py",
   "mimetype": "text/x-python",
   "name": "python",
   "nbconvert_exporter": "python",
   "pygments_lexer": "ipython3",
   "version": "3.10.15"
  }
 },
 "nbformat": 4,
 "nbformat_minor": 2
}
