{
 "cells": [
  {
   "cell_type": "markdown",
   "metadata": {},
   "source": [
    "# libarary\n",
    "\n",
    "# library is a collection of code that we can use in our program \n",
    "mean asan lafzo logo kay code utha kay use karna apny task ko perfrom karny k lia\n"
   ]
  },
  {
   "cell_type": "markdown",
   "metadata": {},
   "source": [
    "## 25 Libararies for data science\n",
    "\n",
    "1. NumPy - Array operations and mathematical functions.\n",
    "2. Pandas - Data manipulation and analysis.\n",
    "3. Matplotlib - Plotting and visualization.\n",
    "4. Seaborn - Statistical data visualization.\n",
    "5. SciPy - Scientific computing and technical functions.\n",
    "6. Scikit-Learn - Machine learning algorithms.\n",
    "7. TensorFlow - Deep learning and neural networks.\n",
    "8. Keras - Neural networks API, works with TensorFlow.\n",
    "9. PyTorch - Deep learning library.\n",
    "10. NLTK - Natural language processing.\n",
    "11. spaCy - Advanced NLP processing.\n",
    "12. Statsmodels - Statistical models and hypothesis testing.\n",
    "13. XGBoost - Gradient boosting for efficient machine learning.\n",
    "14. LightGBM - Gradient boosting for speed and accuracy.\n",
    "15. CatBoost - Gradient boosting optimized for categorical data.\n",
    "16. Plotly - Interactive graphs and dashboards.\n",
    "17. Bokeh - Interactive data visualization.\n",
    "18. Altair - Declarative statistical visualization.\n",
    "19. Shapely - Geometric object manipulation.\n",
    "20. PyCaret - Simplified machine learning workflow.\n",
    "21. Orange - Data mining and machine learning.\n",
    "22. Theano - Fast numerical computation.\n",
    "23. SymPy - Symbolic mathematics.\n",
    "24. H2O.ai - Machine learning with autoML features.\n",
    "25. PyMC3 - Bayesian statistical modeling.\n",
    "26. mlflow - Managing the ML lifecycle.\n",
    "27. BeautifulSoup - Web scraping.\n",
    "28. Scrapy - Web scraping framework.\n",
    "29. Dask - Parallel computing with data science.\n",
    "30. OpenCV - Computer vision tasks.\n"
   ]
  }
 ],
 "metadata": {
  "kernelspec": {
   "display_name": "data_analysis",
   "language": "python",
   "name": "python3"
  },
  "language_info": {
   "name": "python",
   "version": "3.10.0"
  }
 },
 "nbformat": 4,
 "nbformat_minor": 2
}
