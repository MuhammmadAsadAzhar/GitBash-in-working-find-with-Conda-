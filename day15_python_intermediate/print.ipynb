{
 "cells": [
  {
   "cell_type": "code",
   "execution_count": 9,
   "metadata": {},
   "outputs": [
    {
     "name": "stdout",
     "output_type": "stream",
     "text": [
      "my name is Asad and how are you  my age 20 is\n"
     ]
    }
   ],
   "source": [
    "name = \"Asad\"\n",
    "age = 20\n",
    "final = \"how are you \"\n",
    "print(f\"my name is {name} and {final} my age {age} is\")"
   ]
  },
  {
   "cell_type": "code",
   "execution_count": 10,
   "metadata": {},
   "outputs": [
    {
     "name": "stdout",
     "output_type": "stream",
     "text": [
      "Hello Asad\n"
     ]
    }
   ],
   "source": [
    "print(\"Hello Asad\")"
   ]
  },
  {
   "cell_type": "code",
   "execution_count": 14,
   "metadata": {},
   "outputs": [
    {
     "name": "stdout",
     "output_type": "stream",
     "text": [
      "Hello Asad\n"
     ]
    }
   ],
   "source": [
    "print(\"Hello\",\"Asad\")"
   ]
  },
  {
   "cell_type": "code",
   "execution_count": 31,
   "metadata": {},
   "outputs": [
    {
     "name": "stdout",
     "output_type": "stream",
     "text": [
      "Hello:Asad\n"
     ]
    }
   ],
   "source": [
    "print(\"Hello\",\"Asad\", sep=\":\")"
   ]
  },
  {
   "cell_type": "code",
   "execution_count": 21,
   "metadata": {},
   "outputs": [
    {
     "name": "stdout",
     "output_type": "stream",
     "text": [
      "Asad Ali\n"
     ]
    }
   ],
   "source": [
    "print(\"Asad\",\"Ali\")"
   ]
  },
  {
   "cell_type": "code",
   "execution_count": 3,
   "metadata": {},
   "outputs": [
    {
     "name": "stdout",
     "output_type": "stream",
     "text": [
      "Hello Asad  How are you  Asad is my best friend\n"
     ]
    }
   ],
   "source": [
    "print(\"Hello\",\"Asad \",\"How are you\",end=\"  \")\n",
    "print(\"Asad is my best friend\")"
   ]
  },
  {
   "cell_type": "code",
   "execution_count": 34,
   "metadata": {},
   "outputs": [
    {
     "name": "stdout",
     "output_type": "stream",
     "text": [
      "my name is Asad,ang my age is 20\n"
     ]
    }
   ],
   "source": [
    "name=\"Asad\"\n",
    "age=20\n",
    "print(f\"my name is {name},ang my age is {age}\")"
   ]
  },
  {
   "cell_type": "code",
   "execution_count": 38,
   "metadata": {},
   "outputs": [
    {
     "name": "stdout",
     "output_type": "stream",
     "text": [
      "my name is Asad,ang my age is 20.\n",
      "how are you\n"
     ]
    }
   ],
   "source": [
    "name=\"Asad\"\n",
    "age=20\n",
    "intro=\"how are you\"\n",
    "print(f\"my name is {name},ang my age is {age}.\\n{intro}\")"
   ]
  },
  {
   "cell_type": "code",
   "execution_count": 39,
   "metadata": {},
   "outputs": [
    {
     "name": "stdout",
     "output_type": "stream",
     "text": [
      "my name is Asad,ang my age is 20\n",
      "my name is Asad,ang my age is 20.\n",
      "how are you\n",
      "my name is Asad,ang my age is 20.\n",
      "my name is Asad,ang my age is 20.\n",
      "how are you\n"
     ]
    }
   ],
   "source": [
    "# string Format\n",
    "\n",
    "name=\"Asad\"\n",
    "age=20\n",
    "print(f\"my name is {name},ang my age is {age}\")\n",
    "print(f\"my name is {name},ang my age is {age}.\\n{intro}\")\n",
    "print(f\"my name is {name},ang my age is {age}.\")\n",
    "print(f\"my name is {name},ang my age is {age}.\\n{intro}\")"
   ]
  },
  {
   "cell_type": "code",
   "execution_count": 41,
   "metadata": {},
   "outputs": [
    {
     "name": "stdout",
     "output_type": "stream",
     "text": [
      "Asad,is lovely boy:::\n"
     ]
    }
   ],
   "source": [
    "print(\"Asad,{}:::\".format(\"is lovely boy\"))"
   ]
  },
  {
   "cell_type": "code",
   "execution_count": 42,
   "metadata": {},
   "outputs": [
    {
     "name": "stdout",
     "output_type": "stream",
     "text": [
      "asad is learing python###\n"
     ]
    }
   ],
   "source": [
    "print(\"asad {}###\".format(\"is learing python\"))"
   ]
  },
  {
   "cell_type": "code",
   "execution_count": null,
   "metadata": {},
   "outputs": [],
   "source": []
  }
 ],
 "metadata": {
  "kernelspec": {
   "display_name": "python_basics",
   "language": "python",
   "name": "python3"
  },
  "language_info": {
   "codemirror_mode": {
    "name": "ipython",
    "version": 3
   },
   "file_extension": ".py",
   "mimetype": "text/x-python",
   "name": "python",
   "nbconvert_exporter": "python",
   "pygments_lexer": "ipython3",
   "version": "3.10.15"
  }
 },
 "nbformat": 4,
 "nbformat_minor": 2
}
