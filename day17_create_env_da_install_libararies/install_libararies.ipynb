{
 "cells": [
  {
   "cell_type": "markdown",
   "metadata": {},
   "source": [
    "# Creare new env using conda \n",
    "conda create --name data_analysis python=3.10\n",
    "\n",
    "# activate env\n",
    "conda activate data_analysis\n",
    "\n",
    "# install libraries\n",
    "pip install ipykernel\n",
    "pip install pandas\n",
    "pip install numpy\n",
    "pip install matplotlib\n",
    "pip install seaborn\n",
    "pip install plotly\n",
    "pip install xlrd\n",
    "pip install openpyxl\n",
    "\n",
    "# to check in the list \n",
    "conda list"
   ]
  }
 ],
 "metadata": {
  "language_info": {
   "name": "python"
  }
 },
 "nbformat": 4,
 "nbformat_minor": 2
}
