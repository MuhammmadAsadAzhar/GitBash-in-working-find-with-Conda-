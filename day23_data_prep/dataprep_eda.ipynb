{
 "cells": [
  {
   "cell_type": "markdown",
   "metadata": {},
   "source": [
    " # Automatic EDA and visulization with data prep\n",
    " \n",
    " In Exploratory Data Analysis (EDA), composition of data refers to understanding how different subsets or groups within a dataset contribute to the overall dataset. This could involve analyzing categorical variables (like gender, class) or continuous variables (like age, fare) and their distribution within different subgroups. For example, using the Titanic dataset from the Seaborn Python library, you can explore how the dataset is composed in terms of: &gt; Survival status (who survived and who didn't) &gt; Passenger class (1st, 2nd, 3rd class) &gt; Gender (male, female) &gt; Age distribution (children, adults) &gt; Embarkation point (from which port passengers boarded)\n"
   ]
  },
  {
   "cell_type": "code",
   "execution_count": 7,
   "metadata": {},
   "outputs": [
    {
     "data": {
      "application/vnd.jupyter.widget-view+json": {
       "model_id": "6734a5785d75440d8e3282becf3ea39b",
       "version_major": 2,
       "version_minor": 0
      },
      "text/plain": [
       "  0%|          | 0/1602 [00:00<?, ?it/s]"
      ]
     },
     "metadata": {},
     "output_type": "display_data"
    },
    {
     "name": "stderr",
     "output_type": "stream",
     "text": [
      "c:\\Users\\Asad\\miniconda3\\envs\\dataprep\\lib\\site-packages\\dataprep\\eda\\distribution\\render.py:274: FutureWarning: The frame.append method is deprecated and will be removed from pandas in a future version. Use pandas.concat instead.\n",
      "  df = df.append(pd.DataFrame({col: [nrows - npresent]}, index=[\"Others\"]))\n",
      "c:\\Users\\Asad\\miniconda3\\envs\\dataprep\\lib\\site-packages\\dataprep\\eda\\distribution\\render.py:274: FutureWarning: The frame.append method is deprecated and will be removed from pandas in a future version. Use pandas.concat instead.\n",
      "  df = df.append(pd.DataFrame({col: [nrows - npresent]}, index=[\"Others\"]))\n",
      "c:\\Users\\Asad\\miniconda3\\envs\\dataprep\\lib\\site-packages\\dataprep\\eda\\distribution\\render.py:274: FutureWarning: The frame.append method is deprecated and will be removed from pandas in a future version. Use pandas.concat instead.\n",
      "  df = df.append(pd.DataFrame({col: [nrows - npresent]}, index=[\"Others\"]))\n"
     ]
    }
   ],
   "source": [
    "import pandas as pd\n",
    "import numpy as np\n",
    "from dataprep.datasets import load_dataset\n",
    "from dataprep.eda import create_report\n",
    "\n",
    "file_path = r\"C:\\Users\\Asad\\Desktop\\Python ka chilla\\libararies\\datasets\\titanic_df.xlsx\"\n",
    "df = pd.read_excel(file_path)\n",
    "\n",
    "create_report(df).show_browser()"
   ]
  }
 ],
 "metadata": {
  "kernelspec": {
   "display_name": "dataprep",
   "language": "python",
   "name": "python3"
  },
  "language_info": {
   "codemirror_mode": {
    "name": "ipython",
    "version": 3
   },
   "file_extension": ".py",
   "mimetype": "text/x-python",
   "name": "python",
   "nbconvert_exporter": "python",
   "pygments_lexer": "ipython3",
   "version": "3.10.0"
  }
 },
 "nbformat": 4,
 "nbformat_minor": 2
}
