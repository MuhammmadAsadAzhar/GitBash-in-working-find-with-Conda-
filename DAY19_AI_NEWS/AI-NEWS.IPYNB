{
 "cells": [
  {
   "cell_type": "markdown",
   "metadata": {},
   "source": [
    "Top news in AI\n",
    "1. swarm basically its AI multiagent to make your own agen and its lightweight and its advance version of llm's its also based on machine learning\n",
    "2. Nvidia make the highest performance GPU in the world\n",
    "3. google in now in neculear reactors with karios power and 2035 they will bring more in this decord\n",
    "4. elon musk announce the robort taxi\n",
    "5. elon musk capture the rocket statelite\n",
    "6. new start up launch the power skin techonlgy and recharge your airpods with your skin connection"
   ]
  }
 ],
 "metadata": {
  "language_info": {
   "name": "python"
  }
 },
 "nbformat": 4,
 "nbformat_minor": 2
}
