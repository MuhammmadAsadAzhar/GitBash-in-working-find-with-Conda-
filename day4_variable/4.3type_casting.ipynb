{
 "cells": [
  {
   "cell_type": "markdown",
   "metadata": {},
   "source": [
    "# Type casting\n"
   ]
  },
  {
   "cell_type": "markdown",
   "metadata": {},
   "source": [
    "## int to float "
   ]
  },
  {
   "cell_type": "code",
   "execution_count": 1,
   "metadata": {},
   "outputs": [
    {
     "name": "stdout",
     "output_type": "stream",
     "text": [
      "20\n",
      "<class 'float'>\n"
     ]
    }
   ],
   "source": [
    "age_int = 20\n",
    "print(age_int)\n",
    "age_int=float(age_int)\n",
    "print(type(age_int))"
   ]
  },
  {
   "cell_type": "code",
   "execution_count": 13,
   "metadata": {},
   "outputs": [
    {
     "name": "stdout",
     "output_type": "stream",
     "text": [
      "10.5 25\n",
      "<class 'float'>\n"
     ]
    }
   ],
   "source": [
    "name_str= \"10.5\"\n",
    "age_int= 25\n",
    "print(name_str, age_int) # Output: Asad 25  \n",
    "Int_str=float(name_str)\n",
    "print(type(Int_str))"
   ]
  },
  {
   "cell_type": "code",
   "execution_count": 14,
   "metadata": {},
   "outputs": [
    {
     "name": "stdout",
     "output_type": "stream",
     "text": [
      "10.5 25\n",
      "<class 'str'>\n"
     ]
    }
   ],
   "source": [
    "name_str= \"10.5\"\n",
    "age_int= 25\n",
    "print(name_str, age_int) # Output: Asad 25  \n",
    "Int_str=str(name_str)\n",
    "print(type(Int_str))"
   ]
  },
  {
   "cell_type": "code",
   "execution_count": 6,
   "metadata": {},
   "outputs": [
    {
     "name": "stdout",
     "output_type": "stream",
     "text": [
      "20 10\n",
      "<class 'float'>\n"
     ]
    }
   ],
   "source": [
    "x=20\n",
    "y=10\n",
    "print(x,y)\n",
    "z=float(y)\n",
    "print(type(z))"
   ]
  },
  {
   "cell_type": "code",
   "execution_count": 12,
   "metadata": {},
   "outputs": [
    {
     "name": "stdout",
     "output_type": "stream",
     "text": [
      "True\n",
      "<class 'str'>\n"
     ]
    }
   ],
   "source": [
    "##\n",
    "number_bolean= True\n",
    "print(number_bolean) # True\n",
    "#print(type(number_bolean))\n",
    "number_str=str(number_bolean)\n",
    "print(type(number_str))\n"
   ]
  }
 ],
 "metadata": {
  "kernelspec": {
   "display_name": "python_basics",
   "language": "python",
   "name": "python3"
  },
  "language_info": {
   "codemirror_mode": {
    "name": "ipython",
    "version": 3
   },
   "file_extension": ".py",
   "mimetype": "text/x-python",
   "name": "python",
   "nbconvert_exporter": "python",
   "pygments_lexer": "ipython3",
   "version": "3.10.15"
  }
 },
 "nbformat": 4,
 "nbformat_minor": 2
}
