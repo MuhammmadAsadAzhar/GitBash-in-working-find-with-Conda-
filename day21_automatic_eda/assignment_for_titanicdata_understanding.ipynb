{
 "cells": [
  {
   "cell_type": "markdown",
   "metadata": {},
   "source": [
    "\n",
    "# understanding the data in titanic\n",
    "1. Survived: Survival indicator (0 = No, 1 = Yes).\n",
    "2.  Class: Ticket class (1 = First, 2 = Second, 3 = Third). \n",
    "3.  Name: Passenger's full name.\n",
    "4.  Sex: Passenger's gender (male/female). \n",
    "5.  Age: Age of the passenger in years. \n",
    "6.  SibSp: Number of siblings/spouses aboard with the passenger. \n",
    "7.  Parch: Number of parents/children aboard with the passenger.\n",
    "8.  Ticket: Ticket number. Fare: Passenger fare (ticket price).\n",
    "9.  Embarked Port of embarkation (C = Cherbourg, Q = Queenstown, S = Southampton). \n",
    "10. Who: Man, Woman, Child. \n",
    "11. adult male: Boolean for adult male yes or not.\n",
    "12. Deck: Promenade (A): Reading and Writing Room, Bridge (B): Forecastle deck (crew) Shelter (C):Crew mess (crew) Saloon (D):Open space (3rd) Cabins (3rd) Upper (E): Cabins (3rd) Middle (F): Cabins (3rd) Lower (G): Storage rooms (crew) Engine rooms (crew) \n",
    "13. Alive: Boolean for alive: yes or not. \n",
    "14. Alone: Boolean for alone: yes or not."
   ]
  }
 ],
 "metadata": {
  "language_info": {
   "name": "python"
  }
 },
 "nbformat": 4,
 "nbformat_minor": 2
}
