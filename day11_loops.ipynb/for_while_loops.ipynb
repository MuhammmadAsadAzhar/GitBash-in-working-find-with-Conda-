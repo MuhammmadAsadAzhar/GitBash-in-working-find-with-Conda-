{
 "cells": [
  {
   "cell_type": "markdown",
   "metadata": {},
   "source": [
    "## Loops\n",
    "loops are control flow statements in which block of code are execured in repeat form\n",
    "loops are use for repeative operation over data like on string list\n",
    "### Types of Loops\n",
    "***For loop we use for loop used to iterative over a sequence such as list string tuples and execute the block of the code in sequence\n",
    "***While loop we use while loop used to execute the block of code as long as the condition is True and in this loop we dont know when loop will end"
   ]
  },
  {
   "cell_type": "code",
   "execution_count": 2,
   "metadata": {},
   "outputs": [
    {
     "name": "stdout",
     "output_type": "stream",
     "text": [
      "{'sugar', 'oil', 'egg', 'bread'}\n",
      "{'sugar', 'oil', 'egg', 'bread'}\n",
      "{'sugar', 'oil', 'egg', 'bread'}\n",
      "{'sugar', 'oil', 'egg', 'bread'}\n"
     ]
    }
   ],
   "source": [
    "menue = {\"egg\",\"bread\",\"oil\",\"sugar\"}\n",
    "for eat in menue:\n",
    "    print(menue)\n",
    "    "
   ]
  },
  {
   "cell_type": "code",
   "execution_count": 6,
   "metadata": {},
   "outputs": [
    {
     "name": "stdout",
     "output_type": "stream",
     "text": [
      "sugar\n",
      "oil\n",
      "egg\n",
      "bread\n",
      "lets make toast\n"
     ]
    }
   ],
   "source": [
    "menue = {\"egg\",\"bread\",\"oil\",\"sugar\"}\n",
    "for eat in menue:\n",
    "    print(eat)\n",
    "if \"egg\" in menue:\n",
    "    print(\"lets make toast\")\n",
    "else:\n",
    "    print(\"we have egg\")"
   ]
  },
  {
   "cell_type": "code",
   "execution_count": 8,
   "metadata": {},
   "outputs": [
    {
     "name": "stdout",
     "output_type": "stream",
     "text": [
      "sugar is available in resturent\n",
      "oil is available in resturent\n",
      "egg is available in resturent\n",
      "bread is available in resturent\n"
     ]
    }
   ],
   "source": [
    "menue = {\"egg\",\"bread\",\"oil\",\"sugar\"}\n",
    "for eat in menue:\n",
    "    print(f\"{eat} is available in resturent\")"
   ]
  },
  {
   "cell_type": "code",
   "execution_count": 16,
   "metadata": {},
   "outputs": [
    {
     "name": "stdout",
     "output_type": "stream",
     "text": [
      "1\n",
      "3\n",
      "5\n",
      "7\n",
      "9\n"
     ]
    }
   ],
   "source": [
    "for i in range(1,10,2):\n",
    "    print(i)"
   ]
  },
  {
   "cell_type": "code",
   "execution_count": 18,
   "metadata": {},
   "outputs": [
    {
     "name": "stdout",
     "output_type": "stream",
     "text": [
      "0\n",
      "1\n",
      "2\n",
      "3\n",
      "4\n",
      "5\n",
      "6\n",
      "7\n",
      "8\n",
      "9\n"
     ]
    }
   ],
   "source": [
    "for i in range(10):\n",
    "    print(i)"
   ]
  },
  {
   "cell_type": "code",
   "execution_count": 31,
   "metadata": {},
   "outputs": [
    {
     "name": "stdout",
     "output_type": "stream",
     "text": [
      "42\n",
      "4\n",
      "6\n",
      "8\n",
      "10\n",
      "12\n",
      "14\n"
     ]
    }
   ],
   "source": [
    "numbers=[2,4,6,8,10,12]\n",
    "\n",
    "#for num in numbers:\n",
    "total =sum(numbers)\n",
    "print(total)\n",
    "for num in numbers:\n",
    "    print(num+2)"
   ]
  },
  {
   "cell_type": "code",
   "execution_count": 61,
   "metadata": {},
   "outputs": [
    {
     "name": "stdout",
     "output_type": "stream",
     "text": [
      "apple\n",
      "mango\n",
      "asad\n"
     ]
    }
   ],
   "source": [
    "eating_fruits=[\"apple\",\"mango\",\"asad\",\"ali\"]\n",
    "for fruit in eating_fruits:\n",
    "  print(fruit)\n",
    "  if fruit == \"asad\":\n",
    "        \n",
    "        break\n",
    "\n",
    "   "
   ]
  },
  {
   "cell_type": "code",
   "execution_count": 55,
   "metadata": {},
   "outputs": [
    {
     "name": "stdout",
     "output_type": "stream",
     "text": [
      "apple\n",
      "mango\n",
      "asad\n"
     ]
    }
   ],
   "source": [
    "eating_fruits = [\"apple\", \"mango\", \"asad\", \"ali\"]\n",
    "\n",
    "for fruit in eating_fruits:\n",
    "    print(fruit)\n",
    "    if fruit == \"asad\":\n",
    "        break  # Stop the loop once \"asad\" is printed\n"
   ]
  },
  {
   "cell_type": "code",
   "execution_count": null,
   "metadata": {},
   "outputs": [],
   "source": [
    "python_ka_chilla=0\n",
    "while python_ka_chilla<40:\n",
    "    print(\"you are not data scientist\")\n",
    "    python_ka_chilla+=1\n",
    "print(\"you are DS\")\n",
    "\n",
    "    "
   ]
  },
  {
   "cell_type": "code",
   "execution_count": 1,
   "metadata": {},
   "outputs": [
    {
     "name": "stdout",
     "output_type": "stream",
     "text": [
      "Added 1, total is now 1\n",
      "Added 2, total is now 3\n",
      "Added 3, total is now 6\n",
      "Added 4, total is now 10\n",
      "Added 5, total is now 15\n",
      "Added 6, total is now 21\n"
     ]
    }
   ],
   "source": [
    "total = 0\n",
    "num = 1\n",
    "\n",
    "while total < 20:\n",
    "    total += num\n",
    "    print(f\"Added {num}, total is now {total}\")\n",
    "    num += 1\n"
   ]
  },
  {
   "cell_type": "code",
   "execution_count": 3,
   "metadata": {},
   "outputs": [
    {
     "name": "stdout",
     "output_type": "stream",
     "text": [
      "Added 2, total is now 2\n",
      "Added 3, total is now 5\n",
      "Added 4, total is now 9\n",
      "Added 5, total is now 14\n",
      "Added 6, total is now 20\n"
     ]
    }
   ],
   "source": [
    "total = 0\n",
    "num = 2\n",
    "\n",
    "while total < 20:\n",
    "    total += num\n",
    "    print(f\"Added {num}, total is now {total}\")\n",
    "    num += 1\n"
   ]
  }
 ],
 "metadata": {
  "kernelspec": {
   "display_name": "python_basics",
   "language": "python",
   "name": "python3"
  },
  "language_info": {
   "codemirror_mode": {
    "name": "ipython",
    "version": 3
   },
   "file_extension": ".py",
   "mimetype": "text/x-python",
   "name": "python",
   "nbconvert_exporter": "python",
   "pygments_lexer": "ipython3",
   "version": "3.10.15"
  }
 },
 "nbformat": 4,
 "nbformat_minor": 2
}
