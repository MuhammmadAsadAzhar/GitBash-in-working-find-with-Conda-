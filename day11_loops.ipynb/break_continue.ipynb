{
 "cells": [
  {
   "cell_type": "markdown",
   "metadata": {},
   "source": [
    "## break and continue "
   ]
  },
  {
   "cell_type": "code",
   "execution_count": 9,
   "metadata": {},
   "outputs": [
    {
     "name": "stdout",
     "output_type": "stream",
     "text": [
      "no more need\n",
      "no more need\n",
      "2\n"
     ]
    }
   ],
   "source": [
    "eating_roti=0\n",
    "\n",
    "while eating_roti<2:\n",
    "    print(\"no more need\")\n",
    "    eating_roti+=1\n",
    "print(eating_roti)"
   ]
  },
  {
   "cell_type": "code",
   "execution_count": 21,
   "metadata": {},
   "outputs": [
    {
     "name": "stdout",
     "output_type": "stream",
     "text": [
      "1\n",
      "keep eating\n",
      "2\n",
      "keep eating\n",
      "3\n",
      "I'm full\n"
     ]
    }
   ],
   "source": [
    "eating_rotii=0\n",
    "\n",
    "while eating_rotii<5:\n",
    "    eating_rotii+=1\n",
    "    print(eating_rotii)\n",
    "    if eating_rotii==3:\n",
    "        print(\"I'm full\")\n",
    "        break\n",
    "    print(\"keep eating\")"
   ]
  },
  {
   "cell_type": "code",
   "execution_count": 37,
   "metadata": {},
   "outputs": [
    {
     "name": "stdout",
     "output_type": "stream",
     "text": [
      "keep eating_naan\n",
      "i have had 1 keep eating\n",
      "keep eating_naan\n",
      "im hungry\n",
      "keep eating_naan\n",
      "i have had 3 keep eating\n",
      "keep eating_naan\n",
      "i have had 4 keep eating\n",
      "keep eating_naan\n",
      "i have had 5 keep eating\n"
     ]
    }
   ],
   "source": [
    "eating_naan=0\n",
    "\n",
    "while eating_naan<5:\n",
    "    \n",
    "    eating_naan+=1\n",
    "    print(\"keep eating_naan\")\n",
    "    if eating_naan==2:\n",
    "        print(\"im hungry\")\n",
    "        continue\n",
    "    print(\"i have had\",eating_naan,\"keep eating\")"
   ]
  },
  {
   "cell_type": "code",
   "execution_count": 43,
   "metadata": {},
   "outputs": [
    {
     "name": "stdout",
     "output_type": "stream",
     "text": [
      "chair is ready chai cup 1 is served\n",
      "chair is ready chai cup 2 is served\n",
      "chair is ready chai cup 3 is served\n",
      "chair is ready chai cup 4 is served\n",
      "chair is ready chai cup 5 is served\n"
     ]
    }
   ],
   "source": [
    "cup_of_chai=0\n",
    "for i in range(1,6):\n",
    "    print(\"chair is ready\",\"chai cup\",i,\"is served\")"
   ]
  },
  {
   "cell_type": "code",
   "execution_count": 48,
   "metadata": {},
   "outputs": [
    {
     "name": "stdout",
     "output_type": "stream",
     "text": [
      "keep eating_naan\n",
      "i have had 1 keep eating\n",
      "keep eating_naan\n",
      "i have had 2 keep eating\n",
      "keep eating_naan\n",
      "im hungry\n",
      "keep eating_naan\n",
      "i have had 4 keep eating\n",
      "keep eating_naan\n",
      "i have had 5 keep eating\n"
     ]
    }
   ],
   "source": [
    "eating_naan=0\n",
    "\n",
    "while eating_naan<5:\n",
    "    \n",
    "    eating_naan+=1\n",
    "    print(\"keep eating_naan\")\n",
    "    if eating_naan==3:\n",
    "        print(\"im hungry\")\n",
    "        continue\n",
    "    print(\"i have had\",eating_naan,\"keep eating\")"
   ]
  }
 ],
 "metadata": {
  "kernelspec": {
   "display_name": "python_basics",
   "language": "python",
   "name": "python3"
  },
  "language_info": {
   "codemirror_mode": {
    "name": "ipython",
    "version": 3
   },
   "file_extension": ".py",
   "mimetype": "text/x-python",
   "name": "python",
   "nbconvert_exporter": "python",
   "pygments_lexer": "ipython3",
   "version": "3.10.15"
  }
 },
 "nbformat": 4,
 "nbformat_minor": 2
}
