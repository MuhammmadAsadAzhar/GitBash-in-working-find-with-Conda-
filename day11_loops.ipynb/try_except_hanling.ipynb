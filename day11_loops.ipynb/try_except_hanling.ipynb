{
 "cells": [
  {
   "cell_type": "markdown",
   "metadata": {},
   "source": [
    " ## Try, except and finally"
   ]
  },
  {
   "cell_type": "code",
   "execution_count": null,
   "metadata": {},
   "outputs": [],
   "source": []
  },
  {
   "cell_type": "code",
   "execution_count": 3,
   "metadata": {},
   "outputs": [
    {
     "name": "stdout",
     "output_type": "stream",
     "text": [
      "Error: Please enter a valid integer.\n",
      "Execution completed, whether an exception occurred or not.\n"
     ]
    }
   ],
   "source": [
    "try:\n",
    "    # Take input from the user\n",
    "    numerator = int(input(\"Enter the numerator: \"))\n",
    "    denominator = int(input(\"Enter the denominator: \"))\n",
    "\n",
    "    # Perform the division\n",
    "    result = numerator / denominator\n",
    "    print(f\"The result of the division is: {result}\")\n",
    "\n",
    "except ZeroDivisionError:\n",
    "    # Handle division by zero error\n",
    "    print(\"Error: Cannot divide by zero. Please enter a non-zero denominator.\")\n",
    "\n",
    "except ValueError:\n",
    "    # Handle invalid input error (non-integer input)\n",
    "    print(\"Error: Please enter a valid integer.\")\n",
    "\n",
    "finally:\n",
    "    # This block will always execute\n",
    "    print(\"Execution completed, whether an exception occurred or not.\")\n"
   ]
  }
 ],
 "metadata": {
  "kernelspec": {
   "display_name": "python_basics",
   "language": "python",
   "name": "python3"
  },
  "language_info": {
   "codemirror_mode": {
    "name": "ipython",
    "version": 3
   },
   "file_extension": ".py",
   "mimetype": "text/x-python",
   "name": "python",
   "nbconvert_exporter": "python",
   "pygments_lexer": "ipython3",
   "version": "3.10.15"
  }
 },
 "nbformat": 4,
 "nbformat_minor": 2
}
