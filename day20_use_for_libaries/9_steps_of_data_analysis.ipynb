{
 "cells": [
  {
   "cell_type": "markdown",
   "metadata": {},
   "source": [
    "# 9 steps for data anyalysis\n",
    "1. #### Data collection\n",
    "   1. data collection by manually through csv,excel and other formats\n",
    "   2. data collection by web scrapping\n",
    "   3. data collection by API\n",
    "   4. data collection by database\n",
    "2. #### Data cleaning\n",
    "   1. handling missing data-------> remove missing values\n",
    "   2. removing duplication--------> identify and remove duplicate entries\n",
    "   3. correction data types mean convert column in to data types like numberic categories\n",
    "3. #### Data Exploratry \n",
    "   1. it helps you to understand the data characstic and it includes descriptive analysis data visuilzation and identify the data patterns\n",
    "4. #### Feature Engineering\n",
    "   1. it helps you to create the new features or transforming existing one to make the data more suitabls\n",
    "5. #### Data modeling\n",
    "   1. selecting and applying satastical and machine learning models to the data to prediction, classify data and find patterns\n",
    "6. #### Data Evaluation\n",
    "   1. after modeling, evaluating the performence of your models using the differnt matrics like accuracy precision recall F1 etc\n",
    "7. #### Data drawing and concultion\n",
    "   1. interpret your results of your analysis drawing actionable insights from the patterens trends and models\n",
    "      1.1 summerize findings\n",
    "      1.2 decision making\n",
    "      1.3 reporting\n",
    "8. #### automation and sharing results\n",
    "9. "
   ]
  }
 ],
 "metadata": {
  "language_info": {
   "name": "python"
  }
 },
 "nbformat": 4,
 "nbformat_minor": 2
}
