{
 "cells": [
  {
   "cell_type": "markdown",
   "metadata": {},
   "source": [
    "#### Data Dimenstion \n",
    "1. composition mean show the breakdown the whole into parts and its useful when you breakdown the datasets in componensts\n",
    "   1. purpose of this thing to display the makeup of the data as whole\n",
    "   2. common visulization \n",
    "      1. pie chart\n",
    "      2. stacked bar chart\n",
    "      3. waterfall charts\n",
    "2. distribuation mean data kay andar row kitni ha column variables kitny ha or variables ko hum column kahty ha or find out mean median about the data and its help you to determine the how the data values are distrubited acroos the set or over time\n",
    "   1. purpose explore the shape spread and cluster on the data points\n",
    "   2.  common visulization \n",
    "         1. histograms\n",
    "         2. box plots\n",
    "         3. density plots\n",
    "3. comparision mean compare karna 2 say zaidah column ko and its used to determined the similarty and differences the two or more data sets\n",
    "   1. purpse is to compare the data acroos the different categories or time periods\n",
    "   2. common visulization \n",
    "      1. bar chart\n",
    "      2. line chart\n",
    "      3. column charts\n",
    "4. correalation its use when we need to find out the relationship between two or more variables if thers is corellation or assoication between them\n",
    "   1. purpose to identify the interaction between them\n",
    "   2. common visulization \n",
    "      1. scatters plot\n",
    "      2. bubble charts\n",
    "      3. heatmaps\n",
    "\n",
    "### and we say these things made up the EDA exploratry data analysis"
   ]
  }
 ],
 "metadata": {
  "language_info": {
   "name": "python"
  }
 },
 "nbformat": 4,
 "nbformat_minor": 2
}
