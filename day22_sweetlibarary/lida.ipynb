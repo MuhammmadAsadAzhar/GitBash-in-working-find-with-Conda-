{
 "cells": [
  {
   "cell_type": "markdown",
   "metadata": {},
   "source": [
    "# lida use for data visualization\n",
    "lida will use with api key"
   ]
  }
 ],
 "metadata": {
  "language_info": {
   "name": "python"
  }
 },
 "nbformat": 4,
 "nbformat_minor": 2
}
