{
 "cells": [
  {
   "cell_type": "code",
   "execution_count": null,
   "metadata": {},
   "outputs": [
    {
     "data": {
      "text/html": [
       "<div>\n",
       "<style scoped>\n",
       "    .dataframe tbody tr th:only-of-type {\n",
       "        vertical-align: middle;\n",
       "    }\n",
       "\n",
       "    .dataframe tbody tr th {\n",
       "        vertical-align: top;\n",
       "    }\n",
       "\n",
       "    .dataframe thead th {\n",
       "        text-align: right;\n",
       "    }\n",
       "</style>\n",
       "<table border=\"1\" class=\"dataframe\">\n",
       "  <thead>\n",
       "    <tr style=\"text-align: right;\">\n",
       "      <th></th>\n",
       "      <th>title</th>\n",
       "      <th>genre</th>\n",
       "      <th>gross</th>\n",
       "      <th>imdb_metascore</th>\n",
       "      <th>popcorn_score</th>\n",
       "      <th>rating</th>\n",
       "      <th>tomato_score</th>\n",
       "    </tr>\n",
       "  </thead>\n",
       "  <tbody>\n",
       "    <tr>\n",
       "      <th>0</th>\n",
       "      <td>12 Strong</td>\n",
       "      <td>Action</td>\n",
       "      <td>$453,173</td>\n",
       "      <td>54</td>\n",
       "      <td>72</td>\n",
       "      <td>R</td>\n",
       "      <td>54</td>\n",
       "    </tr>\n",
       "    <tr>\n",
       "      <th>1</th>\n",
       "      <td>A Fantastic Woman</td>\n",
       "      <td>Drama</td>\n",
       "      <td>$87,000</td>\n",
       "      <td>78</td>\n",
       "      <td>83</td>\n",
       "      <td>R</td>\n",
       "      <td>90</td>\n",
       "    </tr>\n",
       "    <tr>\n",
       "      <th>2</th>\n",
       "      <td>Call Me By Your Name</td>\n",
       "      <td>Drama</td>\n",
       "      <td>$1,000,000</td>\n",
       "      <td>93</td>\n",
       "      <td>87</td>\n",
       "      <td>R</td>\n",
       "      <td>96</td>\n",
       "    </tr>\n",
       "    <tr>\n",
       "      <th>3</th>\n",
       "      <td>Paddington 2</td>\n",
       "      <td>Animation</td>\n",
       "      <td>$184,414</td>\n",
       "      <td>88</td>\n",
       "      <td>89</td>\n",
       "      <td>PG</td>\n",
       "      <td>100</td>\n",
       "    </tr>\n",
       "  </tbody>\n",
       "</table>\n",
       "</div>"
      ],
      "text/plain": [
       "                  title      genre       gross  imdb_metascore  popcorn_score  \\\n",
       "0             12 Strong     Action    $453,173              54             72   \n",
       "1     A Fantastic Woman      Drama     $87,000              78             83   \n",
       "2  Call Me By Your Name      Drama  $1,000,000              93             87   \n",
       "3          Paddington 2  Animation    $184,414              88             89   \n",
       "\n",
       "  rating  tomato_score  \n",
       "0      R            54  \n",
       "1      R            90  \n",
       "2      R            96  \n",
       "3     PG           100  "
      ]
     },
     "execution_count": 13,
     "metadata": {},
     "output_type": "execute_result"
    },
    {
     "ename": "",
     "evalue": "",
     "output_type": "error",
     "traceback": [
      "\u001b[1;31mThe Kernel crashed while executing code in the current cell or a previous cell. \n",
      "\u001b[1;31mPlease review the code in the cell(s) to identify a possible cause of the failure. \n",
      "\u001b[1;31mClick <a href='https://aka.ms/vscodeJupyterKernelCrash'>here</a> for more info. \n",
      "\u001b[1;31mView Jupyter <a href='command:jupyter.viewOutput'>log</a> for further details."
     ]
    }
   ],
   "source": [
    "# reading json data\n",
    "\n",
    "import pandas as pd\n",
    "df = pd.read_json (r\"C:\\Users\\Asad\\Desktop\\Python ka chilla\\libararies\\datasets\\json_sample.json\" )  \n",
    "\n",
    "df"
   ]
  },
  {
   "cell_type": "code",
   "execution_count": null,
   "metadata": {},
   "outputs": [],
   "source": []
  }
 ],
 "metadata": {
  "kernelspec": {
   "display_name": "data_analysis",
   "language": "python",
   "name": "python3"
  },
  "language_info": {
   "codemirror_mode": {
    "name": "ipython",
    "version": 3
   },
   "file_extension": ".py",
   "mimetype": "text/x-python",
   "name": "python",
   "nbconvert_exporter": "python",
   "pygments_lexer": "ipython3",
   "version": "3.10.0"
  }
 },
 "nbformat": 4,
 "nbformat_minor": 2
}
