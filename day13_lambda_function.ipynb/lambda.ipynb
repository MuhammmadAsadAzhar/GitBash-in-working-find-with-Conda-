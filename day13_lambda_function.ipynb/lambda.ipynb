{
 "cells": [
  {
   "cell_type": "markdown",
   "metadata": {},
   "source": [
    "### Lambda Function\n",
    "lamnda function actually are annoymous function which we use for one time but with lambda keyword not with def"
   ]
  },
  {
   "cell_type": "code",
   "execution_count": 6,
   "metadata": {},
   "outputs": [
    {
     "data": {
      "text/plain": [
       "10"
      ]
     },
     "execution_count": 6,
     "metadata": {},
     "output_type": "execute_result"
    }
   ],
   "source": [
    "add_lambda=lambda x,y:(x+y)\n",
    "add_lambda(6,4)"
   ]
  },
  {
   "cell_type": "code",
   "execution_count": 7,
   "metadata": {},
   "outputs": [
    {
     "data": {
      "text/plain": [
       "-2"
      ]
     },
     "execution_count": 7,
     "metadata": {},
     "output_type": "execute_result"
    }
   ],
   "source": [
    "min_lambda= lambda x,y:(x-y)\n",
    "min_lambda(6,8)\n"
   ]
  },
  {
   "cell_type": "code",
   "execution_count": 10,
   "metadata": {},
   "outputs": [
    {
     "data": {
      "text/plain": [
       "(4, 9)"
      ]
     },
     "execution_count": 10,
     "metadata": {},
     "output_type": "execute_result"
    }
   ],
   "source": [
    "ex_lambda=lambda x,y:(x**2,y**2)\n",
    "ex_lambda(2,3)"
   ]
  },
  {
   "cell_type": "code",
   "execution_count": 11,
   "metadata": {},
   "outputs": [
    {
     "data": {
      "text/plain": [
       "500"
      ]
     },
     "execution_count": 11,
     "metadata": {},
     "output_type": "execute_result"
    }
   ],
   "source": [
    "x=[100,200,300,400,500]\n",
    "max_lambda=lambda x:[x]\n",
    "max(x)"
   ]
  },
  {
   "cell_type": "code",
   "execution_count": 22,
   "metadata": {},
   "outputs": [
    {
     "data": {
      "text/plain": [
       "-1"
      ]
     },
     "execution_count": 22,
     "metadata": {},
     "output_type": "execute_result"
    }
   ],
   "source": [
    "min_lambda=lambda y:min[y]\n",
    "y=[1,0,0.5,-1,2,3,4]\n",
    "min(y)\n"
   ]
  },
  {
   "cell_type": "code",
   "execution_count": 13,
   "metadata": {},
   "outputs": [
    {
     "data": {
      "text/plain": [
       "(True, False)"
      ]
     },
     "execution_count": 13,
     "metadata": {},
     "output_type": "execute_result"
    }
   ],
   "source": [
    "find_lambda= lambda x,y,z:(x<y,y>z)\n",
    "\n",
    "x=10\n",
    "y=20\n",
    "z=30\n",
    "\n",
    "find_lambda(x,y,z)"
   ]
  },
  {
   "cell_type": "code",
   "execution_count": 25,
   "metadata": {},
   "outputs": [
    {
     "data": {
      "text/plain": [
       "[-1, 0, 0.5, 1, 2, 3, 4]"
      ]
     },
     "execution_count": 25,
     "metadata": {},
     "output_type": "execute_result"
    }
   ],
   "source": [
    "sort_lambda= lambda y:[y]\n",
    "y=[1,0,0.5,-1,2,3,4]\n",
    "sorted(y)"
   ]
  },
  {
   "cell_type": "code",
   "execution_count": 37,
   "metadata": {},
   "outputs": [
    {
     "name": "stdout",
     "output_type": "stream",
     "text": [
      "[4, 3, 2, 1, 0.5, 0, -1]\n"
     ]
    }
   ],
   "source": [
    "\n",
    "y={1,0,0.5,-1,2,3,4}\n",
    "sorted_numbers_desc = sorted(y,key=lambda x: x, reverse=True)\n",
    "print(sorted_numbers_desc)\n"
   ]
  },
  {
   "cell_type": "code",
   "execution_count": 38,
   "metadata": {},
   "outputs": [
    {
     "name": "stdout",
     "output_type": "stream",
     "text": [
      "Biryani (Spice Level: 9)\n",
      "Nihari (Spice Level: 7)\n",
      "Aloo Paratha (Spice Level: 5)\n",
      "Korma (Spice Level: 4)\n",
      "Pulao (Spice Level: 3)\n"
     ]
    }
   ],
   "source": [
    "\n",
    "dishes = [\n",
    "    {\"name\": \"Biryani\", \"spice_level\": 9},\n",
    "    {\"name\": \"Korma\", \"spice_level\": 4},\n",
    "    {\"name\": \"Pulao\", \"spice_level\": 3},\n",
    "    {\"name\": \"Nihari\", \"spice_level\": 7},\n",
    "    {\"name\": \"Aloo Paratha\", \"spice_level\": 5}\n",
    "]\n",
    "\n",
    "\n",
    "sorted_dishes = sorted(dishes, key=lambda dish: dish[\"spice_level\"], reverse=True)\n",
    "for dish in sorted_dishes:\n",
    "    print(f\"{dish['name']} (Spice Level: {dish['spice_level']})\")\n"
   ]
  },
  {
   "cell_type": "code",
   "execution_count": 39,
   "metadata": {},
   "outputs": [
    {
     "data": {
      "text/plain": [
       "['Aloo Paratha', 'Biryani', 'Korma', 'Pulao']"
      ]
     },
     "execution_count": 39,
     "metadata": {},
     "output_type": "execute_result"
    },
    {
     "ename": "",
     "evalue": "",
     "output_type": "error",
     "traceback": [
      "\u001b[1;31mThe Kernel crashed while executing code in the current cell or a previous cell. \n",
      "\u001b[1;31mPlease review the code in the cell(s) to identify a possible cause of the failure. \n",
      "\u001b[1;31mClick <a href='https://aka.ms/vscodeJupyterKernelCrash'>here</a> for more info. \n",
      "\u001b[1;31mView Jupyter <a href='command:jupyter.viewOutput'>log</a> for further details."
     ]
    }
   ],
   "source": [
    "dish_menu={\"Biryani\",\"Korma\",\"Pulao\",\"Aloo Paratha\"}\n",
    "sorted_numbers_desc = sorted(dish_menu,key=lambda x: x, reverse=True)\n",
    "sorted(dish_menu)\n"
   ]
  }
 ],
 "metadata": {
  "kernelspec": {
   "display_name": "python_basics",
   "language": "python",
   "name": "python3"
  },
  "language_info": {
   "codemirror_mode": {
    "name": "ipython",
    "version": 3
   },
   "file_extension": ".py",
   "mimetype": "text/x-python",
   "name": "python",
   "nbconvert_exporter": "python",
   "pygments_lexer": "ipython3",
   "version": "3.10.15"
  }
 },
 "nbformat": 4,
 "nbformat_minor": 2
}
