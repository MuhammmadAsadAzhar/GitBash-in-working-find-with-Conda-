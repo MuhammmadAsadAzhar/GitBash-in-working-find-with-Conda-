{
 "cells": [
  {
   "cell_type": "markdown",
   "metadata": {},
   "source": [
    "Absolute and relative paths refer to the way file or directory locations are specified in a filesystem."
   ]
  },
  {
   "cell_type": "markdown",
   "metadata": {},
   "source": [
    "Absolute Path\n",
    "Definition: An absolute path specifies the complete path to a file or directory from the root of the filesystem.\n",
    "Format: It starts from the root directory (C:\\ on Windows, / on Unix-based systems).\n",
    "Usage: Always points to the same location, regardless of the current working directory.\n",
    "Example:\n",
    "Windows: C:\\Users\\Asad\\Desktop\\file.txt"
   ]
  },
  {
   "cell_type": "markdown",
   "metadata": {},
   "source": [
    "Relative Path\n",
    "Definition: A relative path specifies the location of a file or directory in relation to the current working directory (the folder you’re working from).\n",
    "Format: Does not start with the root directory; often uses symbols like . (current directory) and .. (parent directory) to navigate.\n",
    "Usage: Depends on the current working directory, making it more flexible but relative to where the command or script is executed.\n",
    "Example:\n",
    "If the current working directory is C:\\Users\\Asad, a relative path might look like Desktop\\file.txt."
   ]
  }
 ],
 "metadata": {
  "kernelspec": {
   "display_name": "data_analysis",
   "language": "python",
   "name": "python3"
  },
  "language_info": {
   "name": "python",
   "version": "3.10.0"
  }
 },
 "nbformat": 4,
 "nbformat_minor": 2
}
