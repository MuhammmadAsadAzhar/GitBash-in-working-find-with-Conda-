{
 "cells": [
  {
   "cell_type": "markdown",
   "metadata": {},
   "source": [
    "for daily updata use google news\n",
    "and select the ai news"
   ]
  }
 ],
 "metadata": {
  "language_info": {
   "name": "python"
  }
 },
 "nbformat": 4,
 "nbformat_minor": 2
}
