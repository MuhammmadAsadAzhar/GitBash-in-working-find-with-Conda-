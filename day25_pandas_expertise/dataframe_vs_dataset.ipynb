{
 "cells": [
  {
   "cell_type": "markdown",
   "metadata": {},
   "source": [
    "# dataset \n",
    "dataset term can refer to gernally dataset is a tabular data(mean excel data) structure with rows and columns\n",
    "# dataframe\n",
    "in pandas dataframe is a two-dimensional labeled data structure with rows and columns \n",
    "each column can be a different data type such as interget float string boolean etc\n",
    "it supports various operations such as filtering joining "
   ]
  },
  {
   "cell_type": "markdown",
   "metadata": {},
   "source": [
    "# structure and unstructure data\n",
    "\n",
    "Structured and unstructured data represent two major types of data, differing in their format, organization, and ease of analysis. Here’s a breakdown of each:\n",
    "\n",
    "Structured Data\n",
    "Definition: Data that is organized and formatted in a way that is easily searchable and can be readily used by algorithms and databases.\n",
    "Characteristics:\n",
    "Typically stored in tables with rows and columns, like those in relational databases (e.g., SQL).\n",
    "Each field has a defined data type (e.g., integer, string, date).\n",
    "Easily processed by data analysis tools and query languages like SQL.\n",
    "Examples:\n",
    "Databases: Customer information in a CRM (e.g., names, emails, purchase history).\n",
    "Spreadsheets: Financial data or inventory lists in Excel.\n",
    "Sensor data: Readings like temperature or pressure from IoT devices.\n",
    "Unstructured Data\n",
    "Definition: Data that doesn’t have a predefined structure or organization, making it harder to search, analyze, or store in traditional databases.\n",
    "Characteristics:\n",
    "Doesn’t fit neatly into tables or rows.\n",
    "Often needs to be transformed or processed for effective analysis.\n",
    "Can contain a mix of different data types, such as text, images, and video.\n",
    "Examples:\n",
    "Text documents: Emails, PDFs, social media posts.\n",
    "Multimedia files: Photos, videos, audio files.\n",
    "Sensor data: Raw text from GPS coordinates or log files.\n",
    "Key Differences\n",
    "Aspect\tStructured Data\tUnstructured Data\n",
    "Format\tRows and columns\tFree-form (text, images, etc.)\n",
    "Storage\tRelational databases (SQL)\tNoSQL databases, data lakes\n",
    "Ease of Analysis\tEasily analyzed using SQL and BI tools\tRequires preprocessing, NLP, etc.\n",
    "Examples\tSales records, financial data\tEmails, social media posts\n",
    "In many cases, organizations need to analyze both structured and unstructured data for a more comprehensive view, often using data lakes and advanced processing tools to handle unstructured data alongside structured data.\n",
    "\n",
    "\n",
    "\n",
    "\n",
    "\n",
    "\n"
   ]
  },
  {
   "cell_type": "markdown",
   "metadata": {},
   "source": [
    "** usally we say dataset is dataframe**\n",
    "\n",
    "\n",
    "but in dataframe we have index and columns and row\n",
    "\n",
    "in dataframes we usually say observation as row and attributes as column\n",
    "\n",
    "and sometimes we say one column as one series and another column as another series"
   ]
  }
 ],
 "metadata": {
  "kernelspec": {
   "display_name": "data_analysis",
   "language": "python",
   "name": "python3"
  },
  "language_info": {
   "name": "python",
   "version": "3.10.0"
  }
 },
 "nbformat": 4,
 "nbformat_minor": 2
}
