{
 "cells": [
  {
   "cell_type": "code",
   "execution_count": null,
   "metadata": {},
   "outputs": [
    {
     "name": "stdout",
     "output_type": "stream",
     "text": [
      "                               Region  2022 (percent)  2030 (percent)  \\\n",
      "0                  Sub-Saharan Africa  1,152 (14.51%)  1,401 (16.46%)   \n",
      "1    Northern Africa and Western Asia     549 (6.91%)     617 (7.25%)   \n",
      "2      Central Asia and Southern Asia  2,075 (26.13%)  2,248 (26.41%)   \n",
      "3  Eastern Asia and Southeastern Asia  2,342 (29.49%)  2,372 (27.87%)   \n",
      "4         Europe and Northern America  1,120 (14.10%)  1,129 (13.26%)   \n",
      "5     Latin America and the Caribbean     658 (8.29%)     695 (8.17%)   \n",
      "6           Australia and New Zealand      31 (0.39%)      34 (0.40%)   \n",
      "7                             Oceania      14 (0.18%)      15 (0.18%)   \n",
      "8                               World            7942            8512   \n",
      "\n",
      "   2050 (percent)  \n",
      "0  2,094 (21.62%)  \n",
      "1     771 (7.96%)  \n",
      "2  2,575 (26.58%)  \n",
      "3  2,317 (23.92%)  \n",
      "4  1,125 (11.61%)  \n",
      "5     749 (7.73%)  \n",
      "6      38 (0.39%)  \n",
      "7      20 (0.21%)  \n",
      "8            9687  \n"
     ]
    },
    {
     "ename": "",
     "evalue": "",
     "output_type": "error",
     "traceback": [
      "\u001b[1;31mThe Kernel crashed while executing code in the current cell or a previous cell. \n",
      "\u001b[1;31mPlease review the code in the cell(s) to identify a possible cause of the failure. \n",
      "\u001b[1;31mClick <a href='https://aka.ms/vscodeJupyterKernelCrash'>here</a> for more info. \n",
      "\u001b[1;31mView Jupyter <a href='command:jupyter.viewOutput'>log</a> for further details."
     ]
    }
   ],
   "source": [
    "import pandas as pd\n",
    "url = 'https://en.wikipedia.org/wiki/World_population'\n",
    "table = pd.read_html(url)\n",
    "len(table)\n",
    "df = table[2]\n",
    "print(df)\n"
   ]
  }
 ],
 "metadata": {
  "kernelspec": {
   "display_name": "data_analysis",
   "language": "python",
   "name": "python3"
  },
  "language_info": {
   "codemirror_mode": {
    "name": "ipython",
    "version": 3
   },
   "file_extension": ".py",
   "mimetype": "text/x-python",
   "name": "python",
   "nbconvert_exporter": "python",
   "pygments_lexer": "ipython3",
   "version": "3.10.0"
  }
 },
 "nbformat": 4,
 "nbformat_minor": 2
}
